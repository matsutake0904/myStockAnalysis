{
 "cells": [
  {
   "cell_type": "code",
   "execution_count": 1,
   "id": "excess-lesbian",
   "metadata": {},
   "outputs": [],
   "source": [
    "import pandas as pd\n",
    "import seaborn as sns\n",
    "import matplotlib.pyplot as plt\n",
    "import numpy as np\n",
    "from ubiquant_my_library import my_library"
   ]
  },
  {
   "cell_type": "code",
   "execution_count": null,
   "id": "eleven-dominican",
   "metadata": {},
   "outputs": [],
   "source": [
    "path = '/Users/ryo/Work/python_work/kaggle/ubiquant_market/train.csv'\n",
    "reader = my_library.reduce_mem_usage(pd.read_csv(path))\n",
    "# reader = pd.read_csv(path)"
   ]
  },
  {
   "cell_type": "code",
   "execution_count": 5,
   "id": "competitive-title",
   "metadata": {},
   "outputs": [],
   "source": [
    "#parquetファイル出力\n",
    "# out_path = '/Users/ryo/Work/python_work/kaggle/ubiquant_market/train.parquet'\n",
    "out_path = '/Users/ryo/Work/python_work/kaggle/ubiquant_market/train_low_memory.parquet'\n",
    "reader.to_parquet(out_path)"
   ]
  },
  {
   "cell_type": "code",
   "execution_count": 6,
   "id": "extended-mexico",
   "metadata": {},
   "outputs": [],
   "source": [
    "del reader"
   ]
  },
  {
   "cell_type": "code",
   "execution_count": 8,
   "id": "handled-guidance",
   "metadata": {},
   "outputs": [],
   "source": [
    "reader2 = pd.read_parquet(out_path)"
   ]
  },
  {
   "cell_type": "code",
   "execution_count": null,
   "id": "extreme-quick",
   "metadata": {},
   "outputs": [],
   "source": [
    "reader2 = my_library.add_diff_average_columns(reader2)"
   ]
  },
  {
   "cell_type": "code",
   "execution_count": null,
   "id": "forbidden-implementation",
   "metadata": {},
   "outputs": [],
   "source": [
    "out_path2 = '/Users/ryo/Work/python_work/kaggle/ubiquant_market/train_diffave.parquet'\n",
    "reader2.to_parquet(out_path2)"
   ]
  }
 ],
 "metadata": {
  "kernelspec": {
   "display_name": "Python 3",
   "language": "python",
   "name": "python3"
  },
  "language_info": {
   "codemirror_mode": {
    "name": "ipython",
    "version": 3
   },
   "file_extension": ".py",
   "mimetype": "text/x-python",
   "name": "python",
   "nbconvert_exporter": "python",
   "pygments_lexer": "ipython3",
   "version": "3.9.1"
  }
 },
 "nbformat": 4,
 "nbformat_minor": 5
}
